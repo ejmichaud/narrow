{
 "cells": [
  {
   "cell_type": "code",
   "execution_count": 1,
   "metadata": {},
   "outputs": [],
   "source": [
    "import os\n",
    "import json\n",
    "\n",
    "import numpy as np\n",
    "import matplotlib.pyplot as plt"
   ]
  },
  {
   "cell_type": "code",
   "execution_count": 16,
   "metadata": {},
   "outputs": [
    {
     "name": "stdout",
     "output_type": "stream",
     "text": [
      "14.39090052805841\n"
     ]
    },
    {
     "data": {
      "text/plain": [
       "<matplotlib.legend.Legend at 0x7f50d61c1490>"
      ]
     },
     "execution_count": 16,
     "metadata": {},
     "output_type": "execute_result"
    },
    {
     "data": {
      "image/png": "[encoded data removed]",
      "text/plain": [
       "<Figure size 600x600 with 1 Axes>"
      ]
     },
     "metadata": {},
     "output_type": "display_data"
    }
   ],
   "source": [
    "plt.figure(figsize=(6, 6))\n",
    "\n",
    "exp = \"/afs/csail.mit.edu/u/a/asher/narrow/pruned_models\"\n",
    "files = [os.path.join(exp, \"evaluation_results.json\")]\n",
    "mean_losses = []\n",
    "std_of_mean_losses = []\n",
    "frac_neurons_remaining = []\n",
    "for file in files:\n",
    "    with open(file, \"r\") as f:\n",
    "        data = json.load(f)\n",
    "    mean_losses.append(data[\"mean_loss\"])\n",
    "    print(data[\"mean_loss\"])\n",
    "    std_of_mean_losses.append(data[\"std_of_mean\"])\n",
    "    total_neurons_pruned = data[\"pruning_stats\"][\"total_neurons_pruned\"]\n",
    "    total_neurons = data[\"pruning_stats\"][\"total_neurons\"]\n",
    "    frac_remaining = (total_neurons - total_neurons_pruned) / total_neurons\n",
    "    frac_neurons_remaining.append(frac_remaining)\n",
    "plt.errorbar(frac_neurons_remaining, mean_losses, yerr=std_of_mean_losses, fmt=\"o\", label=\"base model / weight pruning\", color='blue')\n",
    "\n",
    "# exp = \"tune-weight\"\n",
    "# dirs = [d for d in os.listdir(exp) if d.startswith(\"threshold\")]\n",
    "# files = [os.path.join(exp, d, \"evaluation_results.json\") for d in dirs]\n",
    "# mean_losses = []\n",
    "# std_of_mean_losses = []\n",
    "# frac_neurons_remaining = []\n",
    "# for file in files:\n",
    "#     with open(file, \"r\") as f:\n",
    "#         data = json.load(f)\n",
    "#     mean_losses.append(data[\"mean_loss\"])\n",
    "#     std_of_mean_losses.append(data[\"std_of_mean\"])\n",
    "#     total_neurons_pruned = data[\"pruning_stats\"][\"total_neurons_pruned\"]\n",
    "#     total_neurons = data[\"pruning_stats\"][\"total_neurons\"]\n",
    "#     frac_remaining = (total_neurons - total_neurons_pruned) / total_neurons\n",
    "#     frac_neurons_remaining.append(frac_remaining)\n",
    "# plt.errorbar(frac_neurons_remaining, mean_losses, yerr=std_of_mean_losses, fmt=\"o\", label=\"tuned model / weight pruning\", color='orange')\n",
    "\n",
    "# exp = \"base-attribution\"\n",
    "# dirs = [d for d in os.listdir(exp) if d.startswith(\"threshold\")]\n",
    "# files = [os.path.join(exp, d, \"evaluation_results.json\") for d in dirs]\n",
    "# mean_losses = []\n",
    "# std_of_mean_losses = []\n",
    "# frac_neurons_remaining = []\n",
    "# for file in files:\n",
    "#     with open(file, \"r\") as f:\n",
    "#         data = json.load(f)\n",
    "#     mean_losses.append(data[\"mean_loss\"])\n",
    "#     std_of_mean_losses.append(data[\"std_of_mean\"])\n",
    "#     total_neurons_pruned = data[\"pruning_stats\"][\"total_neurons_pruned\"]\n",
    "#     total_neurons = data[\"pruning_stats\"][\"total_neurons\"]\n",
    "#     frac_remaining = (total_neurons - total_neurons_pruned) / total_neurons\n",
    "#     frac_neurons_remaining.append(frac_remaining)\n",
    "# plt.errorbar(frac_neurons_remaining, mean_losses, yerr=std_of_mean_losses, fmt=\"x\", label=\"base model / attribution pruning\", color='blue')\n",
    "\n",
    "\n",
    "# exp = \"tune-attribution\"\n",
    "# dirs = [d for d in os.listdir(exp) if d.startswith(\"threshold\")]\n",
    "# files = [os.path.join(exp, d, \"evaluation_results.json\") for d in dirs]\n",
    "# mean_losses = []\n",
    "# std_of_mean_losses = []\n",
    "# frac_neurons_remaining = []\n",
    "# for file in files:\n",
    "#     with open(file, \"r\") as f:\n",
    "#         data = json.load(f)\n",
    "#     mean_losses.append(data[\"mean_loss\"])\n",
    "#     std_of_mean_losses.append(data[\"std_of_mean\"])\n",
    "#     total_neurons_pruned = data[\"pruning_stats\"][\"total_neurons_pruned\"]\n",
    "#     total_neurons = data[\"pruning_stats\"][\"total_neurons\"]\n",
    "#     frac_remaining = (total_neurons - total_neurons_pruned) / total_neurons\n",
    "#     frac_neurons_remaining.append(frac_remaining)\n",
    "# plt.errorbar(frac_neurons_remaining, mean_losses, yerr=std_of_mean_losses, fmt=\"x\", label=\"tuned model / attribution pruning\", color='orange')\n",
    "\n",
    "plt.xlabel(\"Fraction of neurons remaining\")\n",
    "plt.ylabel(\"Mean loss\")\n",
    "plt.axhline(y=1.35, color='black', linestyle='--', label=\"Baseline performance\")\n",
    "# plt.yscale('log')\n",
    "plt.legend()"
   ]
  },
  {
   "cell_type": "code",
   "execution_count": null,
   "metadata": {},
   "outputs": [],
   "source": []
  },
  {
   "cell_type": "code",
   "execution_count": null,
   "metadata": {},
   "outputs": [],
   "source": []
  },
  {
   "cell_type": "code",
   "execution_count": null,
   "metadata": {},
   "outputs": [],
   "source": []
  },
  {
   "cell_type": "code",
   "execution_count": null,
   "metadata": {},
   "outputs": [],
   "source": []
  },
  {
   "cell_type": "code",
   "execution_count": null,
   "metadata": {},
   "outputs": [],
   "source": []
  }
 ],
 "metadata": {
  "kernelspec": {
   "display_name": "Python 3 (ipykernel)",
   "language": "python",
   "name": "python3"
  },
  "language_info": {
   "codemirror_mode": {
    "name": "ipython",
    "version": 3
   },
   "file_extension": ".py",
   "mimetype": "text/x-python",
   "name": "python",
   "nbconvert_exporter": "python",
   "pygments_lexer": "ipython3",
   "version": "3.12.5"
  }
 },
 "nbformat": 4,
 "nbformat_minor": 2
}
